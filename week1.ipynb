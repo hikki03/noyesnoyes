{
 "cells": [
  {
   "cell_type": "markdown",
   "metadata": {},
   "source": [
    "# week1\n",
    "순열 : 서로다른 $n$개에서 $r$개를 중복 없이 뽑아 특정한 순서로 나열하는 것을 의미한다.  \n",
    "조합 :  \n",
    "중복 순열  \n",
    "중복 조합  \n"
   ]
  },
  {
   "cell_type": "code",
   "execution_count": 5,
   "metadata": {},
   "outputs": [
    {
     "name": "stdout",
     "output_type": "stream",
     "text": [
      "[('A', 'B'), ('A', 'C'), ('B', 'A'), ('B', 'C'), ('C', 'A'), ('C', 'B')]\n",
      "6\n"
     ]
    }
   ],
   "source": [
    "from itertools import permutations\n",
    "\n",
    "arr = [\"A\",\"B\",\"C\"]\n",
    "\n",
    "result = list(permutations(arr,2))\n",
    "\n",
    "print(result)\n",
    "print(result.__len__())"
   ]
  },
  {
   "cell_type": "code",
   "execution_count": 3,
   "metadata": {},
   "outputs": [
    {
     "data": {
      "text/plain": [
       "['A', 'B', 'C']"
      ]
     },
     "execution_count": 3,
     "metadata": {},
     "output_type": "execute_result"
    }
   ],
   "source": [
    "arr"
   ]
  },
  {
   "cell_type": "code",
   "execution_count": 6,
   "metadata": {},
   "outputs": [
    {
     "name": "stdout",
     "output_type": "stream",
     "text": [
      "[('A', 'B'), ('A', 'C'), ('B', 'C')]\n",
      "3\n"
     ]
    }
   ],
   "source": [
    "from itertools import combinations\n",
    "\n",
    "arr = [\"A\",\"B\",\"C\"]\n",
    "\n",
    "result = list(combinations(arr,2))\n",
    "\n",
    "print(result)\n",
    "print(result.__len__())"
   ]
  },
  {
   "cell_type": "code",
   "execution_count": 7,
   "metadata": {},
   "outputs": [
    {
     "name": "stdout",
     "output_type": "stream",
     "text": [
      "[('A', 'A'), ('A', 'B'), ('A', 'C'), ('B', 'A'), ('B', 'B'), ('B', 'C'), ('C', 'A'), ('C', 'B'), ('C', 'C')]\n",
      "9\n"
     ]
    }
   ],
   "source": [
    "from itertools import product\n",
    "arr = [\"A\",\"B\",\"C\"]\n",
    "\n",
    "result = list(product(arr,repeat=2))\n",
    "\n",
    "print(result)\n",
    "print(result.__len__())"
   ]
  },
  {
   "cell_type": "code",
   "execution_count": 9,
   "metadata": {},
   "outputs": [
    {
     "name": "stdout",
     "output_type": "stream",
     "text": [
      "[('A', 'A'), ('A', 'B'), ('A', 'C'), ('B', 'B'), ('B', 'C'), ('C', 'C')]\n",
      "6\n"
     ]
    }
   ],
   "source": [
    "# 중복조합 \n",
    "\n",
    "from itertools import combinations_with_replacement\n",
    "\n",
    "arr = [\"A\",\"B\",\"C\"]\n",
    "\n",
    "result = list(combinations_with_replacement(arr,2))\n",
    "\n",
    "print(result)\n",
    "print(result.__len__())"
   ]
  },
  {
   "cell_type": "code",
   "execution_count": null,
   "metadata": {},
   "outputs": [],
   "source": []
  }
 ],
 "metadata": {
  "kernelspec": {
   "display_name": "Python 3.9.6 64-bit",
   "language": "python",
   "name": "python3"
  },
  "language_info": {
   "codemirror_mode": {
    "name": "ipython",
    "version": 3
   },
   "file_extension": ".py",
   "mimetype": "text/x-python",
   "name": "python",
   "nbconvert_exporter": "python",
   "pygments_lexer": "ipython3",
   "version": "3.9.6"
  },
  "orig_nbformat": 4,
  "vscode": {
   "interpreter": {
    "hash": "31f2aee4e71d21fbe5cf8b01ff0e069b9275f58929596ceb00d14d90e3e16cd6"
   }
  }
 },
 "nbformat": 4,
 "nbformat_minor": 2
}
